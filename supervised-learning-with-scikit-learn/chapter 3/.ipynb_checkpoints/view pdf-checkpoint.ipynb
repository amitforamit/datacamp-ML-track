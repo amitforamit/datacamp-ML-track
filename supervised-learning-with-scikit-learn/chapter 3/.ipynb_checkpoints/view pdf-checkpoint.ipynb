{
  "metadata": {
    "language_info": {
      "mimetype": "text/x-python",
      "nbconvert_exporter": "python",
      "name": "python",
      "pygments_lexer": "ipython3",
      "version": "3.6.6",
      "file_extension": ".py",
      "codemirror_mode": {
        "version": 3,
        "name": "ipython"
      }
    },
    "kernelspec": {
      "name": "python36",
      "display_name": "Python 3.6",
      "language": "python"
    }
  },
  "nbformat_minor": 2,
  "nbformat": 4,
  "cells": [
    {
      "cell_type": "code",
      "source": "from IPython.display import IFrame, display\n#filepath = \"http://wikipedia.org\" # works with websites too!\nfilepath = \"chapter3.pdf\"\nIFrame(filepath, width=700, height=1000)",
      "metadata": {
        "trusted": true
      },
      "execution_count": 2,
      "outputs": [
        {
          "execution_count": 2,
          "output_type": "execute_result",
          "data": {
            "text/html": "\n        <iframe\n            width=\"700\"\n            height=\"1000\"\n            src=\"chapter3.pdf\"\n            frameborder=\"0\"\n            allowfullscreen\n        ></iframe>\n        ",
            "text/plain": "<IPython.lib.display.IFrame at 0x7fbc23169e10>"
          },
          "metadata": {}
        }
      ]
    },
    {
      "cell_type": "code",
      "source": "",
      "metadata": {},
      "execution_count": null,
      "outputs": []
    }
  ]
}